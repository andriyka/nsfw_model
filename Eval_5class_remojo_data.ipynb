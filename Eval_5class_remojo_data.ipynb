{
 "cells": [
  {
   "cell_type": "code",
   "execution_count": 126,
   "id": "previous-eligibility",
   "metadata": {},
   "outputs": [],
   "source": [
    "from glob import glob\n",
    "import shutil\n",
    "import pathlib\n",
    "from PIL import Image\n",
    "\n",
    "import tensorflow as tf\n",
    "import tensorflow_hub as hub\n",
    "import collections\n",
    "\n",
    "import numpy as np\n",
    "\n",
    "import seaborn as sns\n",
    "import matplotlib.pyplot as plt\n",
    "from glob import glob\n",
    "\n",
    "import pandas as pd\n",
    "\n",
    "from tensorflow.keras.optimizers import SGD\n",
    "\n",
    "\n",
    "from sklearn.metrics import classification_report, confusion_matrix"
   ]
  },
  {
   "cell_type": "code",
   "execution_count": 44,
   "id": "changed-september",
   "metadata": {},
   "outputs": [
    {
     "data": {
      "text/plain": [
       "['remojo_data/3/unclear/Windows_0005_10470.jpg',\n",
       " 'remojo_data/3/porn/xiaomi_mi9_portrait_0009_01650.jpg',\n",
       " 'remojo_data/3/porn/Samsung_GalaxyA30s_Landscape_0028_08149.jpg',\n",
       " 'remojo_data/3/porn/Samsung_GalaxyJ7_Prime_landscape_0009_01827.jpg',\n",
       " 'remojo_data/3/porn/Samsung_GalaxyJ7_Prime_portrait_0004_09248.jpg',\n",
       " 'remojo_data/3/porn/Realme3_RMX1821_portrait_0021_05776.jpg',\n",
       " 'remojo_data/3/porn/Samsung_GalaxyA31_Portrait_0010_06302.jpg',\n",
       " 'remojo_data/3/porn/Realme3_RMX1821_portrait_0015_10526.jpg',\n",
       " 'remojo_data/3/porn/Realme3_RMX1821_portrait_0020_05586.jpg',\n",
       " 'remojo_data/3/porn/Realme3_RMX1821_Landscape_0032_12720.jpg']"
      ]
     },
     "execution_count": 44,
     "metadata": {},
     "output_type": "execute_result"
    }
   ],
   "source": [
    "imgs = glob('remojo_data/*/*/*')\n",
    "imgs[:10]"
   ]
  },
  {
   "cell_type": "code",
   "execution_count": 45,
   "id": "inner-durham",
   "metadata": {},
   "outputs": [],
   "source": [
    "flist = []\n",
    "for f in imgs:\n",
    "    ff = f.split('/')\n",
    "    flist.append({\n",
    "        'fname': ff[-1],\n",
    "        'fclass': ff[-2],\n",
    "        'annotator': ff[-3]\n",
    "    })"
   ]
  },
  {
   "cell_type": "code",
   "execution_count": 46,
   "id": "center-sector",
   "metadata": {},
   "outputs": [
    {
     "data": {
      "text/html": [
       "<div>\n",
       "<style scoped>\n",
       "    .dataframe tbody tr th:only-of-type {\n",
       "        vertical-align: middle;\n",
       "    }\n",
       "\n",
       "    .dataframe tbody tr th {\n",
       "        vertical-align: top;\n",
       "    }\n",
       "\n",
       "    .dataframe thead th {\n",
       "        text-align: right;\n",
       "    }\n",
       "</style>\n",
       "<table border=\"1\" class=\"dataframe\">\n",
       "  <thead>\n",
       "    <tr style=\"text-align: right;\">\n",
       "      <th></th>\n",
       "      <th>fname</th>\n",
       "      <th>fclass</th>\n",
       "      <th>annotator</th>\n",
       "    </tr>\n",
       "  </thead>\n",
       "  <tbody>\n",
       "    <tr>\n",
       "      <th>0</th>\n",
       "      <td>Windows_0005_10470.jpg</td>\n",
       "      <td>unclear</td>\n",
       "      <td>3</td>\n",
       "    </tr>\n",
       "    <tr>\n",
       "      <th>1</th>\n",
       "      <td>xiaomi_mi9_portrait_0009_01650.jpg</td>\n",
       "      <td>porn</td>\n",
       "      <td>3</td>\n",
       "    </tr>\n",
       "    <tr>\n",
       "      <th>2</th>\n",
       "      <td>Samsung_GalaxyA30s_Landscape_0028_08149.jpg</td>\n",
       "      <td>porn</td>\n",
       "      <td>3</td>\n",
       "    </tr>\n",
       "    <tr>\n",
       "      <th>3</th>\n",
       "      <td>Samsung_GalaxyJ7_Prime_landscape_0009_01827.jpg</td>\n",
       "      <td>porn</td>\n",
       "      <td>3</td>\n",
       "    </tr>\n",
       "    <tr>\n",
       "      <th>4</th>\n",
       "      <td>Samsung_GalaxyJ7_Prime_portrait_0004_09248.jpg</td>\n",
       "      <td>porn</td>\n",
       "      <td>3</td>\n",
       "    </tr>\n",
       "    <tr>\n",
       "      <th>...</th>\n",
       "      <td>...</td>\n",
       "      <td>...</td>\n",
       "      <td>...</td>\n",
       "    </tr>\n",
       "    <tr>\n",
       "      <th>10209</th>\n",
       "      <td>Samsung_GalaxyA31_Portrait_0008_02544.jpg</td>\n",
       "      <td>hentai</td>\n",
       "      <td>1</td>\n",
       "    </tr>\n",
       "    <tr>\n",
       "      <th>10210</th>\n",
       "      <td>xiaomi_mi9_landscape_0010_08250.jpg</td>\n",
       "      <td>hentai</td>\n",
       "      <td>1</td>\n",
       "    </tr>\n",
       "    <tr>\n",
       "      <th>10211</th>\n",
       "      <td>Samsung_GalaxyA30s_Portrait_0022_01856.jpg</td>\n",
       "      <td>hentai</td>\n",
       "      <td>1</td>\n",
       "    </tr>\n",
       "    <tr>\n",
       "      <th>10212</th>\n",
       "      <td>Samsung_GalaxyA30s_Portrait_0022_06400.jpg</td>\n",
       "      <td>hentai</td>\n",
       "      <td>1</td>\n",
       "    </tr>\n",
       "    <tr>\n",
       "      <th>10213</th>\n",
       "      <td>windows_0017_01128.jpg</td>\n",
       "      <td>hentai</td>\n",
       "      <td>1</td>\n",
       "    </tr>\n",
       "  </tbody>\n",
       "</table>\n",
       "<p>10214 rows × 3 columns</p>\n",
       "</div>"
      ],
      "text/plain": [
       "                                                 fname   fclass annotator\n",
       "0                               Windows_0005_10470.jpg  unclear         3\n",
       "1                   xiaomi_mi9_portrait_0009_01650.jpg     porn         3\n",
       "2          Samsung_GalaxyA30s_Landscape_0028_08149.jpg     porn         3\n",
       "3      Samsung_GalaxyJ7_Prime_landscape_0009_01827.jpg     porn         3\n",
       "4       Samsung_GalaxyJ7_Prime_portrait_0004_09248.jpg     porn         3\n",
       "...                                                ...      ...       ...\n",
       "10209        Samsung_GalaxyA31_Portrait_0008_02544.jpg   hentai         1\n",
       "10210              xiaomi_mi9_landscape_0010_08250.jpg   hentai         1\n",
       "10211       Samsung_GalaxyA30s_Portrait_0022_01856.jpg   hentai         1\n",
       "10212       Samsung_GalaxyA30s_Portrait_0022_06400.jpg   hentai         1\n",
       "10213                           windows_0017_01128.jpg   hentai         1\n",
       "\n",
       "[10214 rows x 3 columns]"
      ]
     },
     "execution_count": 46,
     "metadata": {},
     "output_type": "execute_result"
    }
   ],
   "source": [
    "df = pd.DataFrame(flist)\n",
    "df"
   ]
  },
  {
   "cell_type": "code",
   "execution_count": 47,
   "id": "starting-colombia",
   "metadata": {},
   "outputs": [
    {
     "data": {
      "text/plain": [
       "1    2714\n",
       "4    2500\n",
       "3    2500\n",
       "2    2500\n",
       "Name: annotator, dtype: int64"
      ]
     },
     "execution_count": 47,
     "metadata": {},
     "output_type": "execute_result"
    }
   ],
   "source": [
    "df.annotator.value_counts()"
   ]
  },
  {
   "cell_type": "code",
   "execution_count": 48,
   "id": "separated-notion",
   "metadata": {},
   "outputs": [
    {
     "data": {
      "text/plain": [
       "porn        4674\n",
       "neutral     3374\n",
       "unclear      991\n",
       "hentai       539\n",
       "drawings     327\n",
       "sexy         309\n",
       "Name: fclass, dtype: int64"
      ]
     },
     "execution_count": 48,
     "metadata": {},
     "output_type": "execute_result"
    }
   ],
   "source": [
    "df.fclass.value_counts()"
   ]
  },
  {
   "cell_type": "code",
   "execution_count": 49,
   "id": "optical-asset",
   "metadata": {},
   "outputs": [
    {
     "data": {
      "text/html": [
       "<div>\n",
       "<style scoped>\n",
       "    .dataframe tbody tr th:only-of-type {\n",
       "        vertical-align: middle;\n",
       "    }\n",
       "\n",
       "    .dataframe tbody tr th {\n",
       "        vertical-align: top;\n",
       "    }\n",
       "\n",
       "    .dataframe thead th {\n",
       "        text-align: right;\n",
       "    }\n",
       "</style>\n",
       "<table border=\"1\" class=\"dataframe\">\n",
       "  <thead>\n",
       "    <tr style=\"text-align: right;\">\n",
       "      <th></th>\n",
       "      <th>fclass</th>\n",
       "      <th>annotator</th>\n",
       "    </tr>\n",
       "    <tr>\n",
       "      <th>fname</th>\n",
       "      <th></th>\n",
       "      <th></th>\n",
       "    </tr>\n",
       "  </thead>\n",
       "  <tbody>\n",
       "    <tr>\n",
       "      <th>2021-03-03-11-58-15_00432.jpg</th>\n",
       "      <td>porn;porn</td>\n",
       "      <td>3;1</td>\n",
       "    </tr>\n",
       "    <tr>\n",
       "      <th>2021-03-03-11-58-15_00576.jpg</th>\n",
       "      <td>porn;porn</td>\n",
       "      <td>3;2</td>\n",
       "    </tr>\n",
       "    <tr>\n",
       "      <th>2021-03-03-11-58-15_00672.jpg</th>\n",
       "      <td>porn;unclear</td>\n",
       "      <td>2;4</td>\n",
       "    </tr>\n",
       "    <tr>\n",
       "      <th>2021-03-03-11-58-15_00792.jpg</th>\n",
       "      <td>porn;porn</td>\n",
       "      <td>3;1</td>\n",
       "    </tr>\n",
       "    <tr>\n",
       "      <th>Huawei_Nova5T_portrait_0001_00279.jpg</th>\n",
       "      <td>porn;sexy</td>\n",
       "      <td>2;4</td>\n",
       "    </tr>\n",
       "    <tr>\n",
       "      <th>...</th>\n",
       "      <td>...</td>\n",
       "      <td>...</td>\n",
       "    </tr>\n",
       "    <tr>\n",
       "      <th>xiaomi_mi9_portrait_0010_06930.jpg</th>\n",
       "      <td>porn;porn</td>\n",
       "      <td>3;1</td>\n",
       "    </tr>\n",
       "    <tr>\n",
       "      <th>xiaomi_mi9_portrait_0010_07530.jpg</th>\n",
       "      <td>porn;porn</td>\n",
       "      <td>3;2</td>\n",
       "    </tr>\n",
       "    <tr>\n",
       "      <th>xiaomi_mi9_portrait_0010_08820.jpg</th>\n",
       "      <td>porn;porn</td>\n",
       "      <td>4;1</td>\n",
       "    </tr>\n",
       "    <tr>\n",
       "      <th>xiaomi_mi9_portrait_0010_09210.jpg</th>\n",
       "      <td>porn;porn</td>\n",
       "      <td>3;2</td>\n",
       "    </tr>\n",
       "    <tr>\n",
       "      <th>xiaomi_mi9_portrait_0010_09300.jpg</th>\n",
       "      <td>porn;porn;porn</td>\n",
       "      <td>3;4;1</td>\n",
       "    </tr>\n",
       "  </tbody>\n",
       "</table>\n",
       "<p>4512 rows × 2 columns</p>\n",
       "</div>"
      ],
      "text/plain": [
       "                                               fclass annotator\n",
       "fname                                                          \n",
       "2021-03-03-11-58-15_00432.jpg               porn;porn       3;1\n",
       "2021-03-03-11-58-15_00576.jpg               porn;porn       3;2\n",
       "2021-03-03-11-58-15_00672.jpg            porn;unclear       2;4\n",
       "2021-03-03-11-58-15_00792.jpg               porn;porn       3;1\n",
       "Huawei_Nova5T_portrait_0001_00279.jpg       porn;sexy       2;4\n",
       "...                                               ...       ...\n",
       "xiaomi_mi9_portrait_0010_06930.jpg          porn;porn       3;1\n",
       "xiaomi_mi9_portrait_0010_07530.jpg          porn;porn       3;2\n",
       "xiaomi_mi9_portrait_0010_08820.jpg          porn;porn       4;1\n",
       "xiaomi_mi9_portrait_0010_09210.jpg          porn;porn       3;2\n",
       "xiaomi_mi9_portrait_0010_09300.jpg     porn;porn;porn     3;4;1\n",
       "\n",
       "[4512 rows x 2 columns]"
      ]
     },
     "execution_count": 49,
     "metadata": {},
     "output_type": "execute_result"
    }
   ],
   "source": [
    "dfg = df.groupby(df.fname).agg(\n",
    "    {\n",
    " 'fclass':lambda x: ';'.join(x),\n",
    " 'annotator': lambda x: ';'.join(x)\n",
    "    }\n",
    ")\n",
    "dfg"
   ]
  },
  {
   "cell_type": "code",
   "execution_count": 50,
   "id": "peaceful-doctrine",
   "metadata": {},
   "outputs": [],
   "source": [
    "dfg['file_class_1'] = dfg.fclass.apply(lambda x: x.split(';')[0])\n",
    "dfg['file_class_2'] = dfg.fclass.apply(lambda x: x.split(';')[1] if len(x.split(';'))>1 else None)\n",
    "dfg['folder_1'] = dfg.annotator.apply(lambda x: x.split(';')[0])\n",
    "dfg['folder_2'] = dfg.annotator.apply(lambda x: x.split(';')[1] if len(x.split(';'))>1 else None)"
   ]
  },
  {
   "cell_type": "code",
   "execution_count": 51,
   "id": "indian-winning",
   "metadata": {},
   "outputs": [
    {
     "data": {
      "text/html": [
       "<div>\n",
       "<style scoped>\n",
       "    .dataframe tbody tr th:only-of-type {\n",
       "        vertical-align: middle;\n",
       "    }\n",
       "\n",
       "    .dataframe tbody tr th {\n",
       "        vertical-align: top;\n",
       "    }\n",
       "\n",
       "    .dataframe thead th {\n",
       "        text-align: right;\n",
       "    }\n",
       "</style>\n",
       "<table border=\"1\" class=\"dataframe\">\n",
       "  <thead>\n",
       "    <tr style=\"text-align: right;\">\n",
       "      <th></th>\n",
       "      <th>fclass</th>\n",
       "      <th>annotator</th>\n",
       "      <th>file_class_1</th>\n",
       "      <th>file_class_2</th>\n",
       "      <th>folder_1</th>\n",
       "      <th>folder_2</th>\n",
       "    </tr>\n",
       "    <tr>\n",
       "      <th>fname</th>\n",
       "      <th></th>\n",
       "      <th></th>\n",
       "      <th></th>\n",
       "      <th></th>\n",
       "      <th></th>\n",
       "      <th></th>\n",
       "    </tr>\n",
       "  </thead>\n",
       "  <tbody>\n",
       "    <tr>\n",
       "      <th>2021-03-03-11-58-15_00432.jpg</th>\n",
       "      <td>porn;porn</td>\n",
       "      <td>3;1</td>\n",
       "      <td>porn</td>\n",
       "      <td>porn</td>\n",
       "      <td>3</td>\n",
       "      <td>1</td>\n",
       "    </tr>\n",
       "    <tr>\n",
       "      <th>2021-03-03-11-58-15_00576.jpg</th>\n",
       "      <td>porn;porn</td>\n",
       "      <td>3;2</td>\n",
       "      <td>porn</td>\n",
       "      <td>porn</td>\n",
       "      <td>3</td>\n",
       "      <td>2</td>\n",
       "    </tr>\n",
       "    <tr>\n",
       "      <th>2021-03-03-11-58-15_00792.jpg</th>\n",
       "      <td>porn;porn</td>\n",
       "      <td>3;1</td>\n",
       "      <td>porn</td>\n",
       "      <td>porn</td>\n",
       "      <td>3</td>\n",
       "      <td>1</td>\n",
       "    </tr>\n",
       "    <tr>\n",
       "      <th>Huawei_Nova5T_portrait_0001_01178.jpg</th>\n",
       "      <td>porn;porn</td>\n",
       "      <td>3;2</td>\n",
       "      <td>porn</td>\n",
       "      <td>porn</td>\n",
       "      <td>3</td>\n",
       "      <td>2</td>\n",
       "    </tr>\n",
       "    <tr>\n",
       "      <th>Huawei_Nova5T_portrait_0001_03410.jpg</th>\n",
       "      <td>porn;porn</td>\n",
       "      <td>3;2</td>\n",
       "      <td>porn</td>\n",
       "      <td>porn</td>\n",
       "      <td>3</td>\n",
       "      <td>2</td>\n",
       "    </tr>\n",
       "    <tr>\n",
       "      <th>...</th>\n",
       "      <td>...</td>\n",
       "      <td>...</td>\n",
       "      <td>...</td>\n",
       "      <td>...</td>\n",
       "      <td>...</td>\n",
       "      <td>...</td>\n",
       "    </tr>\n",
       "    <tr>\n",
       "      <th>xiaomi_mi9_portrait_0010_06930.jpg</th>\n",
       "      <td>porn;porn</td>\n",
       "      <td>3;1</td>\n",
       "      <td>porn</td>\n",
       "      <td>porn</td>\n",
       "      <td>3</td>\n",
       "      <td>1</td>\n",
       "    </tr>\n",
       "    <tr>\n",
       "      <th>xiaomi_mi9_portrait_0010_07530.jpg</th>\n",
       "      <td>porn;porn</td>\n",
       "      <td>3;2</td>\n",
       "      <td>porn</td>\n",
       "      <td>porn</td>\n",
       "      <td>3</td>\n",
       "      <td>2</td>\n",
       "    </tr>\n",
       "    <tr>\n",
       "      <th>xiaomi_mi9_portrait_0010_08820.jpg</th>\n",
       "      <td>porn;porn</td>\n",
       "      <td>4;1</td>\n",
       "      <td>porn</td>\n",
       "      <td>porn</td>\n",
       "      <td>4</td>\n",
       "      <td>1</td>\n",
       "    </tr>\n",
       "    <tr>\n",
       "      <th>xiaomi_mi9_portrait_0010_09210.jpg</th>\n",
       "      <td>porn;porn</td>\n",
       "      <td>3;2</td>\n",
       "      <td>porn</td>\n",
       "      <td>porn</td>\n",
       "      <td>3</td>\n",
       "      <td>2</td>\n",
       "    </tr>\n",
       "    <tr>\n",
       "      <th>xiaomi_mi9_portrait_0010_09300.jpg</th>\n",
       "      <td>porn;porn;porn</td>\n",
       "      <td>3;4;1</td>\n",
       "      <td>porn</td>\n",
       "      <td>porn</td>\n",
       "      <td>3</td>\n",
       "      <td>4</td>\n",
       "    </tr>\n",
       "  </tbody>\n",
       "</table>\n",
       "<p>3143 rows × 6 columns</p>\n",
       "</div>"
      ],
      "text/plain": [
       "                                               fclass annotator file_class_1  \\\n",
       "fname                                                                          \n",
       "2021-03-03-11-58-15_00432.jpg               porn;porn       3;1         porn   \n",
       "2021-03-03-11-58-15_00576.jpg               porn;porn       3;2         porn   \n",
       "2021-03-03-11-58-15_00792.jpg               porn;porn       3;1         porn   \n",
       "Huawei_Nova5T_portrait_0001_01178.jpg       porn;porn       3;2         porn   \n",
       "Huawei_Nova5T_portrait_0001_03410.jpg       porn;porn       3;2         porn   \n",
       "...                                               ...       ...          ...   \n",
       "xiaomi_mi9_portrait_0010_06930.jpg          porn;porn       3;1         porn   \n",
       "xiaomi_mi9_portrait_0010_07530.jpg          porn;porn       3;2         porn   \n",
       "xiaomi_mi9_portrait_0010_08820.jpg          porn;porn       4;1         porn   \n",
       "xiaomi_mi9_portrait_0010_09210.jpg          porn;porn       3;2         porn   \n",
       "xiaomi_mi9_portrait_0010_09300.jpg     porn;porn;porn     3;4;1         porn   \n",
       "\n",
       "                                      file_class_2 folder_1 folder_2  \n",
       "fname                                                                 \n",
       "2021-03-03-11-58-15_00432.jpg                 porn        3        1  \n",
       "2021-03-03-11-58-15_00576.jpg                 porn        3        2  \n",
       "2021-03-03-11-58-15_00792.jpg                 porn        3        1  \n",
       "Huawei_Nova5T_portrait_0001_01178.jpg         porn        3        2  \n",
       "Huawei_Nova5T_portrait_0001_03410.jpg         porn        3        2  \n",
       "...                                            ...      ...      ...  \n",
       "xiaomi_mi9_portrait_0010_06930.jpg            porn        3        1  \n",
       "xiaomi_mi9_portrait_0010_07530.jpg            porn        3        2  \n",
       "xiaomi_mi9_portrait_0010_08820.jpg            porn        4        1  \n",
       "xiaomi_mi9_portrait_0010_09210.jpg            porn        3        2  \n",
       "xiaomi_mi9_portrait_0010_09300.jpg            porn        3        4  \n",
       "\n",
       "[3143 rows x 6 columns]"
      ]
     },
     "execution_count": 51,
     "metadata": {},
     "output_type": "execute_result"
    }
   ],
   "source": [
    "dfg[dfg.file_class_1==dfg.file_class_2]"
   ]
  },
  {
   "cell_type": "code",
   "execution_count": 52,
   "id": "tamil-access",
   "metadata": {},
   "outputs": [],
   "source": [
    "!rm -rf remojo_matched\n",
    "!mkdir remojo_matched"
   ]
  },
  {
   "cell_type": "code",
   "execution_count": 65,
   "id": "fewer-glenn",
   "metadata": {},
   "outputs": [],
   "source": [
    "for row in dfg[dfg.file_class_1==dfg.file_class_2].iterrows():\n",
    "    shutil.copy(f'remojo_data/{row[1][4]}/{row[1][2]}/{row[0]}', f'remojo_matched/{row[1][2]}/{row[0]}')"
   ]
  },
  {
   "cell_type": "markdown",
   "id": "bronze-advance",
   "metadata": {},
   "source": [
    "## Evaluate"
   ]
  },
  {
   "cell_type": "markdown",
   "id": "declared-luxury",
   "metadata": {},
   "source": [
    "## Remojo Imgs"
   ]
  },
  {
   "cell_type": "code",
   "execution_count": 130,
   "id": "middle-receptor",
   "metadata": {},
   "outputs": [
    {
     "name": "stdout",
     "output_type": "stream",
     "text": [
      "Found 3108 images belonging to 5 classes.\n"
     ]
    }
   ],
   "source": [
    "test_dir = \"remojo_matched\"\n",
    "\n",
    "datagen_kwargs = dict(rescale=1./255)\n",
    "dataflow_kwargs = dict(target_size=(224, 224), batch_size=4, interpolation=\"bilinear\")\n",
    "\n",
    "test_datagen = tf.keras.preprocessing.image.ImageDataGenerator(**datagen_kwargs)\n",
    "test_generator = test_datagen.flow_from_directory(test_dir, shuffle=True, **dataflow_kwargs)"
   ]
  },
  {
   "cell_type": "code",
   "execution_count": 131,
   "id": "major-telescope",
   "metadata": {},
   "outputs": [
    {
     "name": "stdout",
     "output_type": "stream",
     "text": [
      "WARNING:tensorflow:No training configuration found in the save file, so the model was *not* compiled. Compile it manually.\n"
     ]
    },
    {
     "name": "stderr",
     "output_type": "stream",
     "text": [
      "WARNING:tensorflow:No training configuration found in the save file, so the model was *not* compiled. Compile it manually.\n"
     ]
    }
   ],
   "source": [
    "resnet = tf.keras.models.load_model('nsfw_model/trained_models/resnet_v2_50_224/saved_model.h5', custom_objects={'KerasLayer': hub.KerasLayer})"
   ]
  },
  {
   "cell_type": "code",
   "execution_count": 132,
   "id": "sufficient-january",
   "metadata": {},
   "outputs": [
    {
     "name": "stdout",
     "output_type": "stream",
     "text": [
      "Model: \"sequential\"\n",
      "_________________________________________________________________\n",
      "Layer (type)                 Output Shape              Param #   \n",
      "=================================================================\n",
      "keras_layer (KerasLayer)     (None, 2048)              23564800  \n",
      "_________________________________________________________________\n",
      "dense (Dense)                (None, 5)                 10245     \n",
      "_________________________________________________________________\n",
      "prediction (Activation)      (None, 5)                 0         \n",
      "=================================================================\n",
      "Total params: 23,575,045\n",
      "Trainable params: 23,529,605\n",
      "Non-trainable params: 45,440\n",
      "_________________________________________________________________\n"
     ]
    }
   ],
   "source": [
    "resnet.summary()"
   ]
  },
  {
   "cell_type": "code",
   "execution_count": 133,
   "id": "dirty-outline",
   "metadata": {},
   "outputs": [],
   "source": [
    "resnet.compile(optimizer=SGD(momentum=.9),\n",
    "                  loss=tf.keras.losses.CategoricalCrossentropy(from_logits=False),\n",
    "                  metrics=['accuracy'])"
   ]
  },
  {
   "cell_type": "code",
   "execution_count": 134,
   "id": "subjective-temperature",
   "metadata": {},
   "outputs": [],
   "source": [
    "resnet.load_weights('nsfw_model/trained_models/resnet_v2_50_224/saved_model_weights.h5')\n",
    "resnet.trainable=False"
   ]
  },
  {
   "cell_type": "code",
   "execution_count": 135,
   "id": "hollow-navigator",
   "metadata": {},
   "outputs": [
    {
     "name": "stdout",
     "output_type": "stream",
     "text": [
      "777/777 [==============================] - 75s 95ms/step - loss: 6.4579 - accuracy: 0.4213\n"
     ]
    },
    {
     "data": {
      "text/plain": [
       "[6.615221977233887, 0.4086229205131531]"
      ]
     },
     "execution_count": 135,
     "metadata": {},
     "output_type": "execute_result"
    }
   ],
   "source": [
    "resnet.evaluate(test_generator)"
   ]
  },
  {
   "cell_type": "code",
   "execution_count": 136,
   "id": "light-forge",
   "metadata": {},
   "outputs": [],
   "source": [
    "resnet_pred = resnet.predict(test_generator)\n"
   ]
  },
  {
   "cell_type": "code",
   "execution_count": 138,
   "id": "opponent-stretch",
   "metadata": {},
   "outputs": [
    {
     "data": {
      "text/plain": [
       "('drawings', 'hentai', 'neutral', 'porn', 'sexy')"
      ]
     },
     "execution_count": 138,
     "metadata": {},
     "output_type": "execute_result"
    }
   ],
   "source": [
    "indexed_labels = [(index, label) for label, index in test_generator.class_indices.items()]\n",
    "sorted_indices, sorted_labels = zip(*sorted(indexed_labels))\n",
    "sorted_labels"
   ]
  },
  {
   "cell_type": "code",
   "execution_count": 141,
   "id": "numerical-synthesis",
   "metadata": {},
   "outputs": [
    {
     "data": {
      "image/png": "[encoded data removed]",
      "text/plain": [
       "<Figure size 720x576 with 2 Axes>"
      ]
     },
     "metadata": {
      "needs_background": "light"
     },
     "output_type": "display_data"
    }
   ],
   "source": [
    "# resnet_pred = np.argmax(resnet_pred, 1)\n",
    "confusion_mtx = tf.math.confusion_matrix(test_generator.classes, resnet_pred) \n",
    "plt.figure(figsize=(10, 8))\n",
    "sns.heatmap(confusion_mtx, xticklabels=sorted_labels, yticklabels=sorted_labels, \n",
    "            annot=True, fmt='g')\n",
    "plt.xlabel('Prediction')\n",
    "plt.ylabel('Label')\n",
    "plt.show()"
   ]
  },
  {
   "cell_type": "markdown",
   "id": "brilliant-mills",
   "metadata": {},
   "source": [
    "## test imgs"
   ]
  },
  {
   "cell_type": "code",
   "execution_count": 142,
   "id": "north-failure",
   "metadata": {},
   "outputs": [
    {
     "name": "stdout",
     "output_type": "stream",
     "text": [
      "Found 9999 images belonging to 5 classes.\n"
     ]
    }
   ],
   "source": [
    "test_dir = \"test\"\n",
    "\n",
    "datagen_kwargs = dict(rescale=1./255)\n",
    "dataflow_kwargs = dict(target_size=(224, 224), batch_size=16, interpolation=\"bilinear\")\n",
    "\n",
    "test_datagen_1 = tf.keras.preprocessing.image.ImageDataGenerator(**datagen_kwargs)\n",
    "test_generator_1 = test_datagen.flow_from_directory(test_dir, shuffle=True, **dataflow_kwargs)"
   ]
  },
  {
   "cell_type": "code",
   "execution_count": 143,
   "id": "fresh-static",
   "metadata": {},
   "outputs": [
    {
     "name": "stdout",
     "output_type": "stream",
     "text": [
      "625/625 [==============================] - 541s 866ms/step - loss: 0.3371 - accuracy: 0.8874\n"
     ]
    },
    {
     "data": {
      "text/plain": [
       "[0.3370817005634308, 0.8873887658119202]"
      ]
     },
     "execution_count": 143,
     "metadata": {},
     "output_type": "execute_result"
    }
   ],
   "source": [
    "resnet.evaluate(test_generator_1)"
   ]
  },
  {
   "cell_type": "code",
   "execution_count": null,
   "id": "equipped-stable",
   "metadata": {},
   "outputs": [],
   "source": [
    "resnet_pred = resnet.predict(test_generator_1)"
   ]
  },
  {
   "cell_type": "code",
   "execution_count": null,
   "id": "registered-butter",
   "metadata": {},
   "outputs": [],
   "source": [
    "resnet_pred = np.argmax(resnet_pred, 1)\n",
    "confusion_mtx = tf.math.confusion_matrix(test_generator_1.classes, resnet_pred) \n",
    "plt.figure(figsize=(10, 8))\n",
    "sns.heatmap(confusion_mtx, xticklabels=sorted_labels, yticklabels=sorted_labels, \n",
    "            annot=True, fmt='g')\n",
    "plt.xlabel('Prediction')\n",
    "plt.ylabel('Label')\n",
    "plt.show()"
   ]
  },
  {
   "cell_type": "code",
   "execution_count": null,
   "id": "contained-firewall",
   "metadata": {},
   "outputs": [],
   "source": []
  }
 ],
 "metadata": {
  "kernelspec": {
   "display_name": "Python 3",
   "language": "python",
   "name": "python3"
  },
  "language_info": {
   "codemirror_mode": {
    "name": "ipython",
    "version": 3
   },
   "file_extension": ".py",
   "mimetype": "text/x-python",
   "name": "python",
   "nbconvert_exporter": "python",
   "pygments_lexer": "ipython3",
   "version": "3.7.10"
  }
 },
 "nbformat": 4,
 "nbformat_minor": 5
}
